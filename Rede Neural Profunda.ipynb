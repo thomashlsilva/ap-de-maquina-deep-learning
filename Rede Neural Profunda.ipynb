{
 "cells": [
  {
   "cell_type": "markdown",
   "metadata": {
    "pycharm": {
     "name": "#%% md\n"
    }
   },
   "source": [
    "## Notação matemática utilizada"
   ]
  },
  {
   "cell_type": "markdown",
   "metadata": {
    "pycharm": {
     "name": "#%% md\n"
    }
   },
   "source": [
    "Utilizaremos uma notação matemática similar a da prática de regressão logística, com algumas modificações. Elementos modificados estão em azul, novos estão em verdes e, não modificados, em preto.\n",
    "\n",
    "- $m$: quantidade de instancias\n",
    "- $f$: quantidade de atributos\n",
    "- $n^{[l]}$: quantidade de unidades da camada $l$ \n",
    "- $X$: Matriz de instâncias representadas pelo seus atributos a ordem da matriz é $m \\times f$\n",
    "- $\\pmb{y}$: Vetor de tamanho $m$ representando a classe real de cada instância\n",
    "- $\\pmb{\\hat{y}}$: Vetor de predições que, para cada instancia, possui o valor predito para ela. Caso seja uma classificação binária, este valor será 0 ou 1\n",
    "\n",
    "- $Z^{[l]}$: Matriz, para cada instancia, o valor $z^{[l]}_{i,j}$ representando o resultado da função `z` para instancia $i$ e unidade $j$. Essa matriz é de ordem $m \\times n^{[l]}$\n",
    "\n",
    "- $A^{[l]}$ Matriz de ativações da camada $l$ em que, $a^{[l]}_{i,j}$ é um elemento dessa matriz que representa a ativação da instancia $i$ na camada $l$ na unidade $j$. Dessa forma essa é uma matriz de ordem $m \\times n^{[l]}$.\n",
    "\n",
    "- $W^{[l]}$ Matriz de pesos da camada $l$ em que cada elemento $w^{[l]}_{i,j}$ representa ponderação que a unidade $i$ da camada $l$ faz na unidade $j$ da matriz de ativação $A^{[l-1]}$. Caso seja primeira camada, a ponderação feita no atributo $j$ da matriz $X$. Dessa forma, essa matriz é de ordem $n^{[l]} \\times n^{[l-1]}$ exceto na primeira camada que é de ordem $n^{[l]} \\times f$\n",
    "\n",
    "- $Z^{d[l]}$: Derivada $\\frac{\\partial J}{\\partial z^{[l]}_{i,j}}$. Possui a mesma ordem que $Z$\n",
    "\n",
    "- $W^{d[l]}$: Derivada $\\frac{\\partial J}{\\partial w^{[l]}_{i,j}}$. Possui a mesma ordem que $W$\n",
    "\n",
    "Como em nossa implementação temos também representado os elementos por unidade, também usaremos a representação por unidade $j$ em uma determinada camada $l$, apresetnada a seguir. Note que são os mesmos elementos da prática de regressão, porém, nesta prática, temos que definir a qual unidade $j$ e camada $l$ estamos nos referindo.\n",
    "\n",
    "- $\\pmb{z}^{[l]}_j$: $j$-ésima coluna da matriz $Z^{[l]}$ representado o resultado da função z, para cada instancia $m$ da unidade $j$ e camada $l$. Assim, este vetor possui o tamanho $m$.\n",
    "- $\\pmb{a}^{[l]}_j$: $j$-ésima coluna da matriz $A^{[l]}$ representando o vetor de ativações da unidade $j$ de tamanho $m$ calculada por meio do vetor $z^[l]_j$\n",
    "- $\\pmb{w}^{[l]}_{j}$: j-ésima **linha** da matriz $W^{[l]}$ que representa vetor de pesos de uma unidade (neurônio) $j$ para ponderar os pesos da camada anterior ou, caso seja a primeira camada, pondera os atributos. Assim, esse vetor possui o tamanho $f$ (primeira camada) e tamanho  $n^{[l-1]}$ (demais camadas).\n",
    "\n",
    "\n",
    "- $b^{[l]}_j$: Valor de viés da unidade $j$ e camada $l$ (do inglês, bias term)\n",
    "<!--- <span class=\"blue\" style=\"color:blue\">$w_j$: $j$-ésimo valor do vetor $\\pmb{w}$ que pondera $j$-ésima coluna da matriz $A^{[l]}$. Essa coluna representa a $j$-ésima  unidade da camada anterior ou, quando for a primeira camada, o $j$-ésimo atributo da matriz $X$</span>.-->\n",
    "\n",
    "Além das representações das derivadas por unidade $j$  em uma determinada camada $l$:\n",
    "\n",
    "- $\\pmb{z}^{d[l]}_j$: Vetor de derivada $\\frac{\\partial J}{\\partial z_j}$ para cada instância $i$ do modelo de uma determinada unidade $j$ e camada $l$ em uma determinada camada $l$. Possui o mesmo tamanho que  $\\pmb{z}$\n",
    "- $\\pmb{w}^{d[l]}_j$ Vetor de derivada $\\frac{\\partial J}{\\partial w_j}$ para cada unidade $j$ do modelo, possui o mesmo tamanho de $\\pmb{w}^{[l]}_{j}$\n",
    "- $b^{d[l]}_j$: Derivada $\\frac{\\partial J}{\\partial b^{[l]}_j}$ \n",
    "\n",
    "Perceba que esses vetores representam a $j$-ésima coluna de suas respectivas matrizes, para cada unidade $j$. \n"
   ]
  },
  {
   "cell_type": "markdown",
   "metadata": {
    "pycharm": {
     "name": "#%% md\n"
    }
   },
   "source": [
    "## Implementação"
   ]
  },
  {
   "cell_type": "markdown",
   "metadata": {
    "pycharm": {
     "name": "#%% md\n"
    }
   },
   "source": [
    "A seguir, apresentaremos as modificações que devem ser feitas por classe. Primeiramente, execute as importanções que usaremos na prática:"
   ]
  },
  {
   "cell_type": "code",
   "execution_count": 2,
   "metadata": {
    "pycharm": {
     "name": "#%%\n"
    }
   },
   "outputs": [],
   "source": [
    "import numpy as np\n",
    "import pandas as pd\n",
    "import sklearn.datasets\n",
    "import matplotlib.pyplot as plt\n",
    "from rede_neural_profunda import *\n",
    "from util import *"
   ]
  },
  {
   "cell_type": "markdown",
   "metadata": {
    "pycharm": {
     "name": "#%% md\n"
    }
   },
   "source": [
    "### Classe FuncaoAtivacao"
   ]
  },
  {
   "cell_type": "markdown",
   "metadata": {
    "pycharm": {
     "name": "#%% md\n"
    }
   },
   "source": [
    "**Atividade 1 - Funções de ativações novas e alteração na função sigmoid**: Você agora poderá ver 4 objetos da classe `FuncaoAtivacao` instanciados: sigmoid, relu, leaky_relu e tanh. Você deverá modificar alterar as suas funções lambda para retornar o resultado correto, dependendo da função de ativação.\n",
    "\n",
    "O valor do vetor de derivadas $\\pmb{z^{d[l]}_j}$ é diferente caso estejamos na última camada. Por isso, na classe `FuncaoAtivacao` agora temos um atributo (opcional) `dz_ultima_camada` que é a função da derivada quando  calculamos o vetor $\\pmb{z^{d[l]}_j}$ na última camada com uma determinada função de ativação. A função de ativação `sigmoid` será a única que usaremos como última camada, assim, altere o objeto `sigmoid`com a função  `dz_ultima_camada` correspondente. \n",
    "\n",
    "O atributo `dz_ultima_camada` do objeto sigmoid terá a função que usamos como `dz_funcao`  na prática passada. Agora, o parametro `dz_funcao` será diferente: temos que usar o parâmetro `arr_dz_w_prox` representando a $j$-ésima coluna do produto $Z^{d[l+1]} \\times W^{[l+1]}$. Crie também as funções de ativação relu, leaky_relu e tangente hiperbólica (variáveis `relu`, `leaky_relu` e `tanh`, respectivamente) usando apenas os parâmetros do contrutor `funcao` e `dz_funcao`. Lembrando que não usaremos as funções de ativação `relu`, `leaky_relu` e `tanh` como última camada (camada de saída). Para implementar essas expressões lambda, você poderá usar vetorização. Lembre-se do seguinte código da prática de regressão logística: "
   ]
  },
  {
   "cell_type": "code",
   "execution_count": 8,
   "metadata": {
    "pycharm": {
     "name": "#%%\n"
    }
   },
   "outputs": [
    {
     "name": "stdout",
     "output_type": "stream",
     "text": [
      "[False False  True  True False]\n",
      "[0 0 3 3 0]\n"
     ]
    }
   ],
   "source": [
    "import numpy as np\n",
    "meu_querido_vetor = np.array([3,2,8,9,2])\n",
    "#a linha abaixo retorna true ou false, dependendo do valor\n",
    "print(meu_querido_vetor>4)\n",
    "#Se multiplicamos um número por um vetor numpy de true e false \n",
    "#. é o mesmo de multiplicarmos o número por 1 ou 0, respectivamente\n",
    "print(3*(meu_querido_vetor>4))"
   ]
  },
  {
   "cell_type": "code",
   "execution_count": 3,
   "metadata": {
    "pycharm": {
     "name": "#%%\n"
    }
   },
   "outputs": [
    {
     "name": "stderr",
     "output_type": "stream",
     "text": [
      ".\n",
      "----------------------------------------------------------------------\n",
      "Ran 1 test in 0.000s\n",
      "\n",
      "OK\n"
     ]
    }
   ],
   "source": [
    "!python -m rede_neural_profunda_test TestFuncaoAtivacao.test_sigmoid"
   ]
  },
  {
   "cell_type": "code",
   "execution_count": 4,
   "metadata": {
    "pycharm": {
     "name": "#%%\n"
    }
   },
   "outputs": [
    {
     "name": "stderr",
     "output_type": "stream",
     "text": [
      ".\n",
      "----------------------------------------------------------------------\n",
      "Ran 1 test in 0.000s\n",
      "\n",
      "OK\n"
     ]
    }
   ],
   "source": [
    "!python -m rede_neural_profunda_test TestFuncaoAtivacao.test_relu"
   ]
  },
  {
   "cell_type": "code",
   "execution_count": 6,
   "metadata": {
    "pycharm": {
     "name": "#%%\n"
    }
   },
   "outputs": [
    {
     "name": "stderr",
     "output_type": "stream",
     "text": [
      ".\n",
      "----------------------------------------------------------------------\n",
      "Ran 1 test in 0.000s\n",
      "\n",
      "OK\n"
     ]
    }
   ],
   "source": [
    "!python -m rede_neural_profunda_test TestFuncaoAtivacao.test_leaky_relu"
   ]
  },
  {
   "cell_type": "code",
   "execution_count": 7,
   "metadata": {
    "pycharm": {
     "name": "#%%\n"
    }
   },
   "outputs": [
    {
     "name": "stderr",
     "output_type": "stream",
     "text": [
      ".\n",
      "----------------------------------------------------------------------\n",
      "Ran 1 test in 0.000s\n",
      "\n",
      "OK\n"
     ]
    }
   ],
   "source": [
    "!python -m rede_neural_profunda_test TestFuncaoAtivacao.test_tanh"
   ]
  },
  {
   "cell_type": "markdown",
   "metadata": {
    "pycharm": {
     "name": "#%% md\n"
    }
   },
   "source": [
    "### Alteração da classe `RegressaoLogistica` para `Unidade`"
   ]
  },
  {
   "cell_type": "markdown",
   "metadata": {
    "pycharm": {
     "name": "#%% md\n"
    }
   },
   "source": [
    "**Classe Unidade:** A classe RegressaoLogistica da prática anterior foi renomeada para Unidade.  Essa classe já está pronta, agora, ela representará uma unidade (neurônio). Alguns atributos  foram removidos (pois agora não criamos o modelo apenas com uma unidade) e um único atributo foi modificado: tinhamos antes o `mat_x`, representando a matriz $X$, ao invés dele, temos que utilizar a matriz $A^{[l-1]}$, ou seja, a matriz de ativações da camada anterior. Essa matriz, representada pelo atributo `mat_a_ant`, é usada no lugar de `mat_x` para calcular o `forward_propagation` e o `backward_propagation`. Reveja a implementação e relembre os atributos dela:\n",
    "\n",
    "- `b`: Valor $b$ de viés da regressão logística \n",
    "- `func_ativacao`: função de ativação a ser usada. Esse atributo é uma função Python\n",
    "- `dz_func`: função derivada a ser usada de acordo com a função de ativação\n",
    "- `arr_w`: vetor de pesos $\\pmb{w^{[l]}_{j}}$\n",
    "- `arr_z`: vetor de resultados $\\pmb{z^{[l]}_{j}}$ \n",
    "- `arr_a`: vetor de ativações $\\pmb{a^{[l]}_{j}}$\n",
    "- `mat_a_ant`: Matriz de ativações da camada anterior $A^{[l-1]}$ (ou matriz $X$, caso esta seja a primeira camada)\n",
    "- `gradiente`: Instancia da classe `Gradiente` que possui os atributos `arr_dz`, `arr_dw` e `db` representando, respectivamente, $\\pmb{z^{d[l]}_j}$, $\\pmb{w^{d[l]}_j}$ e $b^{d[l]}_j$."
   ]
  },
  {
   "cell_type": "markdown",
   "metadata": {
    "pycharm": {
     "name": "#%% md\n"
    }
   },
   "source": [
    "### Implementação da classe Camada"
   ]
  },
  {
   "cell_type": "markdown",
   "metadata": {
    "pycharm": {
     "name": "#%% md\n"
    }
   },
   "source": [
    "A classe camada possui os seguintes atributos:\n",
    "\n",
    "- `arr_unidades`: Vetor de unidades (neurônios) desta camada. Representada por instâncias da classe `Unidade`. São inicializados por meio dos parametros do contrutor que definem a quantidade de unidades, função de ativação e derivada (`qtd_unidades`, `func_ativacao` e `func_dz` respectivamente).\n",
    "- `ant_camada`: Instância da classe `Camada` referente à camada anterior. Caso seja a primeira camada escondida, então `ant_camada == None`\n",
    "- `prox_camada`: Instância da classe `Camada` referente à proxima camada. Caso seja a última camada (camada de saída), então `prox_camada == None`\n",
    "- `qtd_un_camada_ant`: Quantidade de unidades da camada anterior, armazena o valor $n^{[l-1]}$ exceto na primeira camada que recebe o valor $f$ \n",
    "- `mat_w`: atributo calculado (`property`) representando a matriz de pesos $W^{[l]}$ desta camada\n",
    "- `mat_dz`: atributo calculado (`property`) representando a derivada $Z^{d[l]}$. \n",
    "- `mat_dz_w`: Atributo calculado que efetua o produto $Z^{d[l]} \\times W^{[l]}$"
   ]
  },
  {
   "cell_type": "markdown",
   "metadata": {
    "pycharm": {
     "name": "#%% md\n"
    }
   },
   "source": [
    "**Atividade 2 - construtor da classe `Camada`**: Inicialize o vetor de `arr_unidades` com a quantidade de unidades correspondente (use os parâmetros do construtor da classe)"
   ]
  },
  {
   "cell_type": "code",
   "execution_count": 9,
   "metadata": {
    "pycharm": {
     "name": "#%%\n"
    }
   },
   "outputs": [
    {
     "name": "stderr",
     "output_type": "stream",
     "text": [
      ".\n",
      "----------------------------------------------------------------------\n",
      "Ran 1 test in 0.000s\n",
      "\n",
      "OK\n"
     ]
    }
   ],
   "source": [
    "!python -m rede_neural_profunda_test TestCamada.test_init"
   ]
  },
  {
   "cell_type": "markdown",
   "metadata": {
    "pycharm": {
     "name": "#%% md\n"
    }
   },
   "source": [
    "**Atividade 3 - método `forward_propagation` da classe `Camada`**: Nesse método, você deverá criar a matriz de ativação $A^{[l]}$ da camada atual $l$ (representada por `mat_a`) por meio da matriz de ativações anterior $A^{[l-1]}$ (representada por `mat_a_ant`). Para isso, você deverá chamar o método `forward_propagation` de cada unidade (classe Unidade), implementado por vocês na prática de Regressão Logística, que cria o vetor $\\pmb{a^{[l]}_j}$, representado por `arr_a` de cada unidade. Para criar a matriz `mat_a`, observe sempre a sua dimensão. Dica: veja abaixo uma forma de preencher valores em linhas/colunas de uma matriz numpy por meio de vetores. Você deverá usar [np.zeros](https://docs.scipy.org/doc/numpy/reference/generated/numpy.zeros.html) para inicializar a matriz."
   ]
  },
  {
   "cell_type": "code",
   "execution_count": 10,
   "metadata": {
    "pycharm": {
     "name": "#%%\n"
    }
   },
   "outputs": [
    {
     "name": "stdout",
     "output_type": "stream",
     "text": [
      "[[0. 0. 0. 0. 0.]\n",
      " [0. 0. 0. 0. 0.]\n",
      " [0. 0. 0. 0. 0.]\n",
      " [0. 0. 0. 0. 0.]\n",
      " [0. 0. 0. 0. 0.]\n",
      " [0. 0. 0. 0. 0.]\n",
      " [0. 0. 0. 0. 0.]\n",
      " [0. 0. 0. 0. 0.]\n",
      " [0. 0. 0. 0. 0.]\n",
      " [0. 0. 0. 0. 0.]]\n",
      "[0.0809499  0.01528839 0.3846509  0.06935342 0.00116769]\n",
      "[0.00641326 0.61481646 0.15414235 0.15330888 0.30493278 0.04443835\n",
      " 0.79968421 0.32642173 0.60737008 0.56373839]\n"
     ]
    }
   ],
   "source": [
    "#considere a matriz mat_h e o vetor arr_linha e arr_coluna:\n",
    "mat_h = np.zeros((10,5))\n",
    "arr_linha = np.random.rand(5)\n",
    "arr_coluna = np.random.rand(10)\n",
    "print(mat_h)\n",
    "print(arr_linha)\n",
    "print(arr_coluna)"
   ]
  },
  {
   "cell_type": "code",
   "execution_count": 11,
   "metadata": {
    "pycharm": {
     "name": "#%%\n"
    }
   },
   "outputs": [
    {
     "data": {
      "text/plain": [
       "array([[0.        , 0.        , 0.        , 0.        , 0.        ],\n",
       "       [0.        , 0.        , 0.        , 0.        , 0.        ],\n",
       "       [0.        , 0.        , 0.        , 0.        , 0.        ],\n",
       "       [0.0809499 , 0.01528839, 0.3846509 , 0.06935342, 0.00116769],\n",
       "       [0.        , 0.        , 0.        , 0.        , 0.        ],\n",
       "       [0.        , 0.        , 0.        , 0.        , 0.        ],\n",
       "       [0.        , 0.        , 0.        , 0.        , 0.        ],\n",
       "       [0.        , 0.        , 0.        , 0.        , 0.        ],\n",
       "       [0.        , 0.        , 0.        , 0.        , 0.        ],\n",
       "       [0.        , 0.        , 0.        , 0.        , 0.        ]])"
      ]
     },
     "execution_count": 11,
     "metadata": {},
     "output_type": "execute_result"
    }
   ],
   "source": [
    "#para preenchermos a linha 3 com o vetor arr_linha:\n",
    "mat_h[3,:] = arr_linha\n",
    "mat_h"
   ]
  },
  {
   "cell_type": "code",
   "execution_count": 12,
   "metadata": {
    "pycharm": {
     "name": "#%%\n"
    }
   },
   "outputs": [
    {
     "data": {
      "text/plain": [
       "array([[0.        , 0.        , 0.00641326, 0.        , 0.        ],\n",
       "       [0.        , 0.        , 0.61481646, 0.        , 0.        ],\n",
       "       [0.        , 0.        , 0.15414235, 0.        , 0.        ],\n",
       "       [0.0809499 , 0.01528839, 0.15330888, 0.06935342, 0.00116769],\n",
       "       [0.        , 0.        , 0.30493278, 0.        , 0.        ],\n",
       "       [0.        , 0.        , 0.04443835, 0.        , 0.        ],\n",
       "       [0.        , 0.        , 0.79968421, 0.        , 0.        ],\n",
       "       [0.        , 0.        , 0.32642173, 0.        , 0.        ],\n",
       "       [0.        , 0.        , 0.60737008, 0.        , 0.        ],\n",
       "       [0.        , 0.        , 0.56373839, 0.        , 0.        ]])"
      ]
     },
     "execution_count": 12,
     "metadata": {},
     "output_type": "execute_result"
    }
   ],
   "source": [
    "#para preenchermos a coluna 2 com o vetor arr_coluna: \n",
    "mat_h[:,2] = arr_coluna\n",
    "mat_h"
   ]
  },
  {
   "cell_type": "code",
   "execution_count": 14,
   "metadata": {
    "pycharm": {
     "name": "#%%\n"
    }
   },
   "outputs": [
    {
     "name": "stdout",
     "output_type": "stream",
     "text": [
      "MAT A:(4, 3)\n",
      "MAT_A_ANT: [[ 1.    0.75]\n",
      " [ 1.   -1.  ]\n",
      " [ 0.5   0.75]\n",
      " [ 1.    1.  ]]\n",
      "MAT A:(4, 3)\n",
      "MAT_A_ANT: [[ 1.    0.75]\n",
      " [ 1.   -1.  ]\n",
      " [ 0.5   0.75]\n",
      " [ 1.    1.  ]]\n",
      "MAT A:(4, 2)\n",
      "MAT_A_ANT: [[1.575 1.125 1.175]\n",
      " [0.7   0.    1.   ]\n",
      " [1.475 1.075 0.725]\n",
      " [1.7   1.3   1.2  ]]\n",
      "MAT A:(4, 2)\n",
      "MAT_A_ANT: [[1.575 1.125 1.175]\n",
      " [0.7   0.    1.   ]\n",
      " [1.475 1.075 0.725]\n",
      " [1.7   1.3   1.2  ]]\n",
      "MAT A:(4, 2)\n",
      "MAT_A_ANT: [[0.82849523 0.75491499 0.7640476 ]\n",
      " [0.66818777 0.47502081 0.73105858]\n",
      " [0.81381617 0.74554661 0.6737071 ]\n",
      " [0.84553473 0.78583498 0.76852478]]\n",
      "MAT A:(4, 2)\n",
      "MAT_A_ANT: [[0.82849523 0.75491499 0.7640476 ]\n",
      " [0.66818777 0.47502081 0.73105858]\n",
      " [0.81381617 0.74554661 0.6737071 ]\n",
      " [0.84553473 0.78583498 0.76852478]]\n"
     ]
    },
    {
     "name": "stderr",
     "output_type": "stream",
     "text": [
      ".\n",
      "----------------------------------------------------------------------\n",
      "Ran 1 test in 0.011s\n",
      "\n",
      "OK\n"
     ]
    }
   ],
   "source": [
    "!python -m rede_neural_profunda_test TestCamada.test_forward_propagation"
   ]
  },
  {
   "cell_type": "markdown",
   "metadata": {
    "pycharm": {
     "name": "#%% md\n"
    }
   },
   "source": [
    "**Atividade 4 - propriedades da classe `Camada`**: Você deverá implementar as propriedades `mat_w` e `mat_dz` para criar as matrizes $W^{[l]}$ e $Z^{d[l]}$. Logo após, vocẽ deverá implementar a propriedade `mat_dz_w` que calcula $Z^{d[l]} \\times W^{[l]}$. Fique atento nas dimensões das matrizes para usar o preenchimento de matrizes corretamente."
   ]
  },
  {
   "cell_type": "code",
   "execution_count": 15,
   "metadata": {
    "pycharm": {
     "name": "#%%\n"
    }
   },
   "outputs": [
    {
     "name": "stderr",
     "output_type": "stream",
     "text": [
      ".\n",
      "----------------------------------------------------------------------\n",
      "Ran 1 test in 0.000s\n",
      "\n",
      "OK\n"
     ]
    }
   ],
   "source": [
    "!python -m rede_neural_profunda_test TestCamada.test_mat_w"
   ]
  },
  {
   "cell_type": "code",
   "execution_count": 16,
   "metadata": {
    "pycharm": {
     "name": "#%%\n"
    }
   },
   "outputs": [
    {
     "name": "stderr",
     "output_type": "stream",
     "text": [
      ".\n",
      "----------------------------------------------------------------------\n",
      "Ran 1 test in 0.000s\n",
      "\n",
      "OK\n"
     ]
    }
   ],
   "source": [
    "!python -m rede_neural_profunda_test TestCamada.test_mat_dz"
   ]
  },
  {
   "cell_type": "code",
   "execution_count": 17,
   "metadata": {
    "pycharm": {
     "name": "#%%\n"
    }
   },
   "outputs": [
    {
     "name": "stderr",
     "output_type": "stream",
     "text": [
      ".\n",
      "----------------------------------------------------------------------\n",
      "Ran 1 test in 0.000s\n",
      "\n",
      "OK\n"
     ]
    }
   ],
   "source": [
    "!python -m rede_neural_profunda_test TestCamada.test_mat_dz_w"
   ]
  },
  {
   "cell_type": "markdown",
   "metadata": {
    "pycharm": {
     "name": "#%% md\n"
    }
   },
   "source": [
    "**Atividade 5 - método backward_propagation da classe `Camada`:** Por meio da matriz `mat_dz_dw` da camada seguinte, ou seja, o resultado de $Z^{d[l+1]} \\times W^{[l+1]}$ e do vetor de classes $\\pmb{y}$, execute o backward propagation de todas as unidades. Para obter o `mat_dz_dw` da camada seguinte não esqueça que as camadas possuem o atributo `prox_camada`. Caso essa seja a última camada, então `mat_dz_dw == None`. "
   ]
  },
  {
   "cell_type": "code",
   "execution_count": 19,
   "metadata": {
    "pycharm": {
     "name": "#%%\n"
    }
   },
   "outputs": [
    {
     "name": "stdout",
     "output_type": "stream",
     "text": [
      "db: 0.16121531345200216 arr_dw: [0.61144878 0.00501964 0.00568566]\n",
      "db: 0.16121531345200216 arr_dw: [0.61144878 0.00501964 0.00568566]\n",
      "db: -2.7755575615628914e-17 arr_dw: [-0.4656806   0.7144306  -0.48814353]\n",
      "db: -2.7755575615628914e-17 arr_dw: [-0.4656806   0.7144306  -0.48814353]\n",
      "db: -0.08716334570861797 arr_dw: [-0.11055054  0.         -0.48174745]\n",
      "db: -0.08716334570861797 arr_dw: [-0.11055054  0.         -0.48174745]\n",
      "db: 0.18400765036856515 arr_dw: [0.23882682 0.50060338 0.16252645]\n",
      "db: 0.18400765036856515 arr_dw: [0.23882682 0.50060338 0.16252645]\n"
     ]
    },
    {
     "name": "stderr",
     "output_type": "stream",
     "text": [
      ".\n",
      "----------------------------------------------------------------------\n",
      "Ran 1 test in 0.004s\n",
      "\n",
      "OK\n"
     ]
    }
   ],
   "source": [
    "!python -m rede_neural_profunda_test TestCamada.test_backward_propagation"
   ]
  },
  {
   "cell_type": "markdown",
   "metadata": {
    "pycharm": {
     "name": "#%% md\n"
    }
   },
   "source": [
    "## Implementação da classe `RedeNeural`"
   ]
  },
  {
   "cell_type": "markdown",
   "metadata": {
    "pycharm": {
     "name": "#%% md\n"
    }
   },
   "source": [
    "A classe `RedeNeural` possui os seguintes atributos: \n",
    "\n",
    "- `arr_camadas`: Vetor que armazena a lista de instancias da classe `Camada` dessa Rede Neural. Esses objetos são instanciados por meio do método `config_rede`\n",
    "- `arr_qtd_un_por_camada`: Vetor de inteiros que, o valor na posição `i` do vetor corresponde a quantidade de unidades na i-ésima camada.\n",
    "- `arr_func_a_por_camada`: Função de ativação por camada. Esse vetor armazena objetos da classe `FuncaoAtivacao` em que, cada posição `i` do vetor, corresponde a função de ativação da i-ésima camada\n",
    "- `num_iteracoes`: Número de iterações (épocas) que a rede neural irá rodar\n",
    "- `arr_y`: Representa o vetor $\\pmb{y}$. Esses objetos são instanciados por meio do método `config_rede`\n",
    "- `mat_x`: Representa a matriz de atributos por instancias $X$. Esses objetos são instanciados por meio do método `config_rede`"
   ]
  },
  {
   "cell_type": "markdown",
   "metadata": {
    "pycharm": {
     "name": "#%% md\n"
    }
   },
   "source": [
    "**Atividade 6 - método `config_rede`**: instancia  armazena em arr_camada todas as camadas por meio da\n",
    "        quantidade de unidades por camada `arr_qtd_un_por_camada` e funções de ativação `arr_func_a_por_camada`. Para cada camada, você deverá referenciar a camada anterior e a próxima por meio os atributos `ant_camada` e `prox_camada`, respectivamente"
   ]
  },
  {
   "cell_type": "markdown",
   "metadata": {
    "pycharm": {
     "name": "#%% md\n"
    }
   },
   "source": [
    "**Código Python útil para atividades 7 e 8:** Muitas vezes, precisamos percorrer vetores a partir de uma determinada posição ou de trás para frente. Veja como isso pode ser feito usando a função [range](https://docs.python.org/3/library/functions.html#func-range) e a função [enumerate](https://docs.python.org/3/library/functions.html#enumerate):"
   ]
  },
  {
   "cell_type": "code",
   "execution_count": 32,
   "metadata": {
    "pycharm": {
     "name": "#%%\n"
    }
   },
   "outputs": [
    {
     "name": "stdout",
     "output_type": "stream",
     "text": [
      "Tras para frente: \n",
      "Pos arr_v[5]: 1\n",
      "Pos arr_v[4]: 3\n",
      "Pos arr_v[3]: 5\n",
      "Pos arr_v[2]: 4\n",
      "Pos arr_v[1]: 2\n",
      "Pos arr_v[0]: 4\n",
      "---\n",
      "A partir do 3o: \n",
      "Pos arr_v[3]: 5\n",
      "Pos arr_v[4]: 3\n",
      "Pos arr_v[5]: 1\n",
      "mesma efeito, com enumerate:\n",
      "Pos arr_v[3]: 5\n",
      "Pos arr_v[4]: 3\n",
      "Pos arr_v[5]: 1\n"
     ]
    }
   ],
   "source": [
    "arr_v = [4,2,4,5,3,1]\n",
    "tam_vet = len(arr_v)\n",
    "#percorrer elementos de tras para frente\n",
    "print(\"Tras para frente: \")\n",
    "for i in range(tam_vet-1,-1,-1):\n",
    "    print(f\"Pos arr_v[{i}]: {arr_v[i]}\")\n",
    "print(\"---\")\n",
    "print(\"A partir do 3o: \")\n",
    "#percorrer elementos a partir do indice 3\n",
    "for i in range(3,tam_vet):\n",
    "    print(f\"Pos arr_v[{i}]: {arr_v[i]}\")\n",
    "    \n",
    "#Com o enumerate, também conseguimos percorrer a partir de uma posição\n",
    "#..Lembre que arr_v[3:] retorna o vetor a partir da terceira posição \n",
    "print(\"mesma efeito, com enumerate:\")\n",
    "for i,valor in enumerate(arr_v[3:],3):\n",
    "    print(f\"Pos arr_v[{i}]: {valor}\")\n"
   ]
  },
  {
   "cell_type": "code",
   "execution_count": 34,
   "metadata": {
    "pycharm": {
     "name": "#%%\n"
    }
   },
   "outputs": [
    {
     "name": "stderr",
     "output_type": "stream",
     "text": [
      "\u001b[32m[I 2022-11-30 21:50:26,438]\u001b[0m A new study created in memory with name: no-name-501ecea6-3981-467c-8d66-24dfae38acc2\u001b[0m\n",
      "\u001b[32m[I 2022-11-30 21:50:26,447]\u001b[0m Trial 0 finished with value: 3.0 and parameters: {'y': 3}. Best is trial 0 with value: 3.0.\u001b[0m\n",
      "\u001b[32m[I 2022-11-30 21:50:26,447]\u001b[0m Trial 1 finished with value: 2.0 and parameters: {'y': 2}. Best is trial 1 with value: 2.0.\u001b[0m\n",
      "\u001b[32m[I 2022-11-30 21:50:26,447]\u001b[0m Trial 2 finished with value: 4.0 and parameters: {'y': 4}. Best is trial 1 with value: 2.0.\u001b[0m\n",
      "\u001b[32m[I 2022-11-30 21:50:26,452]\u001b[0m Trial 3 finished with value: 6.0 and parameters: {'y': 6}. Best is trial 1 with value: 2.0.\u001b[0m\n",
      "\u001b[32m[I 2022-11-30 21:50:26,452]\u001b[0m Trial 4 finished with value: 5.0 and parameters: {'y': 5}. Best is trial 1 with value: 2.0.\u001b[0m\n"
     ]
    }
   ],
   "source": [
    "import optuna\n",
    "def objective(trial):\n",
    "    y = trial.suggest_int(\"y\", -99, 99)\n",
    "    return y\n",
    "\n",
    "\n",
    "search_space = {\"y\": [2,3,4,5,6]}\n",
    "study = optuna.create_study(sampler=optuna.samplers.GridSampler(search_space))\n",
    "study.optimize(objective)"
   ]
  },
  {
   "cell_type": "code",
   "execution_count": 31,
   "metadata": {
    "pycharm": {
     "name": "#%%\n"
    }
   },
   "outputs": [
    {
     "name": "stderr",
     "output_type": "stream",
     "text": [
      ".\n",
      "----------------------------------------------------------------------\n",
      "Ran 1 test in 0.000s\n",
      "\n",
      "OK\n"
     ]
    }
   ],
   "source": [
    "!python -m rede_neural_profunda_test TestRedeNeural.test_config_rede"
   ]
  },
  {
   "cell_type": "markdown",
   "metadata": {
    "pycharm": {
     "name": "#%% md\n"
    }
   },
   "source": [
    "**Atividade 7 - método `forward_propagation`**: Execute, para todas as camadas, o método forward_propagation. Note que, para primeira camada,\n",
    "    a entrada será a matriz $X$, representada por `mat_x` e, as demais, seriam a matriz $A^{[l-1]}$, ou seja, a matriz de ativações da camada anterior. Lembre-se que cada camada possui sua matriz de ativações representada\n",
    "    pelo atributo `mat_a` e temos o vetor de camadas para podemos acessar as camadas anteriores."
   ]
  },
  {
   "cell_type": "code",
   "execution_count": 68,
   "metadata": {
    "pycharm": {
     "name": "#%%\n"
    }
   },
   "outputs": [
    {
     "name": "stderr",
     "output_type": "stream",
     "text": [
      ".\n",
      "----------------------------------------------------------------------\n",
      "Ran 1 test in 0.000s\n",
      "\n",
      "OK\n"
     ]
    }
   ],
   "source": [
    "!python -m rede_neural_profunda_test TestRedeNeural.test_forward_propagation"
   ]
  },
  {
   "cell_type": "markdown",
   "metadata": {
    "pycharm": {
     "name": "#%% md\n"
    }
   },
   "source": [
    "**Atividade 8 - método `backward_propagation`**: Execute, para todas as camadas, o método backward_propagation. Fique atento na ordem de execução"
   ]
  },
  {
   "cell_type": "code",
   "execution_count": 69,
   "metadata": {
    "pycharm": {
     "name": "#%%\n"
    }
   },
   "outputs": [
    {
     "name": "stderr",
     "output_type": "stream",
     "text": [
      ".\n",
      "----------------------------------------------------------------------\n",
      "Ran 1 test in 0.004s\n",
      "\n",
      "OK\n"
     ]
    }
   ],
   "source": [
    "!python -m rede_neural_profunda_test TestRedeNeural.test_backward_propagation"
   ]
  },
  {
   "cell_type": "markdown",
   "metadata": {
    "pycharm": {
     "name": "#%% md\n"
    }
   },
   "source": [
    "**Atividade 9 - método `fit`**: SImilar ao método `fit` que implementamos na prática de Regressão Logística, realiza self.num_iteracoes iterações (épocas) da rede neural"
   ]
  },
  {
   "cell_type": "code",
   "execution_count": 63,
   "metadata": {
    "pycharm": {
     "name": "#%%\n"
    }
   },
   "outputs": [
    {
     "name": "stdout",
     "output_type": "stream",
     "text": [
      "Iteração: 0 Loss: 0.6917086361383792"
     ]
    },
    {
     "name": "stderr",
     "output_type": "stream",
     "text": [
      ".\n",
      "----------------------------------------------------------------------\n",
      "Ran 1 test in 1.169s\n",
      "\n",
      "OK\n"
     ]
    },
    {
     "name": "stdout",
     "output_type": "stream",
     "text": [
      "\n",
      "Iteração: 100 Loss: 0.7896166812867895\n",
      "Iteração: 200 Loss: 0.8203664876289714\n",
      "Iteração: 300 Loss: 0.8312919565480994\n",
      "Iteração: 400 Loss: 0.8372238282750839\n",
      "Iteração: 500 Loss: 0.841187546148004\n",
      "Iteração: 600 Loss: 0.8441274886175223\n",
      "Iteração: 700 Loss: 0.8464477006383528\n",
      "Iteração: 800 Loss: 0.848355446056541\n",
      "Iteração: 900 Loss: 0.8499702769882169\n"
     ]
    }
   ],
   "source": [
    "!python -m rede_neural_profunda_test TestRedeNeural.test_fit"
   ]
  },
  {
   "cell_type": "markdown",
   "metadata": {
    "pycharm": {
     "name": "#%% md\n"
    }
   },
   "source": [
    "**Atividade 10 - método `loss_function`**: Para calcular o `loss_function`, você deverá obter o vetor de ativações $\\pmb{a}$ (representado por `arr_a` em cada unidade) apropriado. Fique atento em qual camada/unidade você deverá obter o arr_a."
   ]
  },
  {
   "cell_type": "markdown",
   "metadata": {
    "pycharm": {
     "name": "#%% md\n"
    }
   },
   "source": [
    "**Atividade 11 - método `predict`**: similar ao da regressão logistica, para uma determinada matriz $X$ representando todos os atributos a serem preditos, calcula a predição $\\pmb{\\hat{y}}$ para cada instância $\\in X$ por meio do método `forward_propagation` de um modelo já criado. Esse código será muito similar ao que fizemos na prática de regressão logistica, porém, deverá ficar atento a qual camada/unidade você deverá obter o vetor de ativações arr_a"
   ]
  },
  {
   "cell_type": "code",
   "execution_count": 26,
   "metadata": {
    "pycharm": {
     "name": "#%%\n"
    }
   },
   "outputs": [
    {
     "name": "stdout",
     "output_type": "stream",
     "text": [
      "Iteração: 0 Loss: 0.6917086361383792\n",
      "Iteração: 100 Loss: 0.7896166812867895\n",
      "Iteração: 200 Loss: 0.8203664876289714\n",
      "Iteração: 300 Loss: 0.8312919565480994\n",
      "Iteração: 400 Loss: 0.8372238282750839\n",
      "Iteração: 500 Loss: 0.841187546148004\n",
      "Iteração: 600 Loss: 0.8441274886175223\n",
      "Iteração: 700 Loss: 0.8464477006383528\n",
      "Iteração: 800 Loss: 0.848355446056541\n",
      "Iteração: 900 Loss: 0.8499702769882169\n"
     ]
    },
    {
     "name": "stderr",
     "output_type": "stream",
     "text": [
      "E\n",
      "======================================================================\n",
      "ERROR: test_predict (__main__.TestRedeNeural.test_predict)\n",
      "----------------------------------------------------------------------\n",
      "Traceback (most recent call last):\n",
      "  File \"E:\\pythonProject\\deep_learning_PauloThomas\\rede_neural_profunda_test.py\", line 366, in test_predict\n",
      "    arr_predicts = self.redeNeural.predict(mat_x)\n",
      "                   ^^^^^^^^^^^^^^^^^^^^^^^^^^^^^^\n",
      "  File \"E:\\pythonProject\\deep_learning_PauloThomas\\rede_neural_profunda.py\", line 361, in predict\n",
      "    arr_a = self.arr_camadas[0].arr_unidades[0].mat_a\n",
      "            ^^^^^^^^^^^^^^^^^^^^^^^^^^^^^^^^^^^^^^^^^\n",
      "AttributeError: 'Unidade' object has no attribute 'mat_a'\n",
      "\n",
      "----------------------------------------------------------------------\n",
      "Ran 1 test in 1.209s\n",
      "\n",
      "FAILED (errors=1)\n"
     ]
    }
   ],
   "source": [
    "!python -m rede_neural_profunda_test TestRedeNeural.test_predict"
   ]
  },
  {
   "cell_type": "markdown",
   "metadata": {
    "pycharm": {
     "name": "#%% md\n"
    }
   },
   "source": [
    "## Exemplo - Rede Neural Funcionando*  🤩 "
   ]
  },
  {
   "cell_type": "markdown",
   "metadata": {
    "pycharm": {
     "name": "#%% md\n"
    }
   },
   "source": [
    "*Assim espera-se ;-)"
   ]
  },
  {
   "cell_type": "code",
   "execution_count": 16,
   "metadata": {
    "pycharm": {
     "name": "#%%\n"
    }
   },
   "outputs": [
    {
     "data": {
      "text/plain": [
       "<matplotlib.collections.PathCollection at 0x170c7524ad0>"
      ]
     },
     "execution_count": 16,
     "metadata": {},
     "output_type": "execute_result"
    },
    {
     "data": {
      "image/png": "[encoded data removed]",
      "text/plain": [
       "<Figure size 640x480 with 1 Axes>"
      ]
     },
     "metadata": {},
     "output_type": "display_data"
    }
   ],
   "source": [
    "#usaremos o mesmo dataset da prática de regrssão logistica:\n",
    "mat_x, arr_y = sklearn.datasets.make_moons(400, noise=0.05)\n",
    "plt.scatter(mat_x[:,0], mat_x[:,1], s=40, c=arr_y, cmap=plt.cm.Spectral)"
   ]
  },
  {
   "cell_type": "markdown",
   "metadata": {
    "pycharm": {
     "name": "#%% md\n"
    }
   },
   "source": [
    "Crie uma rede neural de duas camadas a primeira com 4 unidades escondidas e, a segunda, com 1 unidade (essa seria a camada de saída). A função de ativação da primeira camada será uma Tangente Hiperbólica (`tanh`) e, da segunda, uma `sigmoid`. Rode por 3.000 épocas. Ao trainar, coloque como learning rate=1.2."
   ]
  },
  {
   "cell_type": "code",
   "execution_count": 23,
   "metadata": {
    "pycharm": {
     "name": "#%%\n"
    }
   },
   "outputs": [
    {
     "name": "stdout",
     "output_type": "stream",
     "text": [
      "Iteração: 0 Loss: nan\n",
      "Iteração: 100 Loss: nan\n",
      "Iteração: 200 Loss: nan\n",
      "Iteração: 300 Loss: nan\n",
      "Iteração: 400 Loss: nan\n",
      "Iteração: 500 Loss: nan\n",
      "Iteração: 600 Loss: nan\n",
      "Iteração: 700 Loss: nan\n",
      "Iteração: 800 Loss: nan\n",
      "Iteração: 900 Loss: nan\n",
      "Iteração: 1000 Loss: nan\n",
      "Iteração: 1100 Loss: nan\n",
      "Iteração: 1200 Loss: nan\n",
      "Iteração: 1300 Loss: nan\n",
      "Iteração: 1400 Loss: nan\n",
      "Iteração: 1500 Loss: nan\n",
      "Iteração: 1600 Loss: nan\n",
      "Iteração: 1700 Loss: nan\n",
      "Iteração: 1800 Loss: nan\n",
      "Iteração: 1900 Loss: nan\n",
      "Iteração: 2000 Loss: nan\n",
      "Iteração: 2100 Loss: nan\n",
      "Iteração: 2200 Loss: nan\n",
      "Iteração: 2300 Loss: nan\n",
      "Iteração: 2400 Loss: nan\n",
      "Iteração: 2500 Loss: nan\n",
      "Iteração: 2600 Loss: nan\n",
      "Iteração: 2700 Loss: nan\n",
      "Iteração: 2800 Loss: nan\n",
      "Iteração: 2900 Loss: nan\n"
     ]
    }
   ],
   "source": [
    "dnn = RedeNeural([4,1],\n",
    "                [tanh,sigmoid],\n",
    "                3000)\n",
    "dnn.fit(mat_x,arr_y,1.2)"
   ]
  },
  {
   "cell_type": "code",
   "execution_count": 24,
   "metadata": {
    "pycharm": {
     "name": "#%%\n"
    }
   },
   "outputs": [
    {
     "data": {
      "image/png": "[encoded data removed]",
      "text/plain": [
       "<Figure size 800x600 with 1 Axes>"
      ]
     },
     "metadata": {},
     "output_type": "display_data"
    }
   ],
   "source": [
    "plot_decision_boundary(dnn,mat_x,arr_y)"
   ]
  },
  {
   "cell_type": "markdown",
   "metadata": {
    "pycharm": {
     "name": "#%% md\n"
    }
   },
   "source": [
    "Faça testes aumentando o número de unidades, a função de ativação e/ou aumentando a profundidade da rede neural. Descreva abaixo o que foi observado. Perceba que, nesta prática, fazer uma rede neural profunda geralmente não irá melhorar o modelo. Um dos motivos é que temos apenas 2 atributos. Uma rede neural profunda tende a melhorar o resultado quando temos diversos atributos, pois, em cada camada reduzimos a dimensionalidade do problema. "
   ]
  },
  {
   "cell_type": "markdown",
   "metadata": {
    "pycharm": {
     "name": "#%% md\n"
    }
   },
   "source": []
  }
 ],
 "metadata": {
  "kernelspec": {
   "display_name": "Python 3 (ipykernel)",
   "language": "python",
   "name": "python3"
  },
  "language_info": {
   "codemirror_mode": {
    "name": "ipython",
    "version": 3
   },
   "file_extension": ".py",
   "mimetype": "text/x-python",
   "name": "python",
   "nbconvert_exporter": "python",
   "pygments_lexer": "ipython3",
   "version": "3.11.0"
  }
 },
 "nbformat": 4,
 "nbformat_minor": 2
}
